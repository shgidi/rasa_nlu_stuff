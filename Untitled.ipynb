{
 "cells": [
  {
   "cell_type": "code",
   "execution_count": 1,
   "metadata": {
    "collapsed": true
   },
   "outputs": [],
   "source": [
    "from rasa_nlu.model import Metadata, Interpreter\n",
    "from rasa_nlu.converters import load_data\n",
    "from rasa_nlu.config import RasaNLUConfig\n",
    "from rasa_nlu.model import Trainer\n",
    "import json\n",
    "\n",
    "dir='/mnt/intrctbt/tourism-il-ms/nlp/'\n",
    "model_directory = dir+'models/model_20170913-193954'"
   ]
  },
  {
   "cell_type": "code",
   "execution_count": 2,
   "metadata": {},
   "outputs": [
    {
     "name": "stderr",
     "output_type": "stream",
     "text": [
      "/home/ubuntu/anaconda3/lib/python3.6/site-packages/rasa_nlu/training_data.py:157: UserWarning: Intent 'hotel-other' has only 1 training examples! minimum is 2, training may fail.\n",
      "  warnings.warn(template.format(intent, size, self.MIN_EXAMPLES_PER_INTENT))\n"
     ]
    },
    {
     "name": "stdout",
     "output_type": "stream",
     "text": [
      "initializing nlp_mitie\n",
      "initializing tokenizer_mitie\n",
      "initializing ner_mitie\n",
      "initializing ner_synonyms\n",
      "initializing intent_entity_featurizer_regex\n",
      "initializing intent_classifier_mitie\n"
     ]
    }
   ],
   "source": [
    "training_data = load_data('/mnt/intrctbt/tourism-il-ms/nlp/hotel_data.json')\n",
    "trainer = Trainer(RasaNLUConfig(\"/home/ubuntu/nbs/intrctbt/config_mitie.json\"))"
   ]
  },
  {
   "cell_type": "code",
   "execution_count": 3,
   "metadata": {
    "collapsed": true
   },
   "outputs": [],
   "source": [
    "config = RasaNLUConfig(\"/mnt/intrctbt/tourism-il-ms/nlp/mitie_config.json\")\n",
    "model_directory = '/mnt/intrctbt/tourism-il-ms/nlp/models/model_20170913-193954'"
   ]
  },
  {
   "cell_type": "code",
   "execution_count": 4,
   "metadata": {
    "collapsed": true
   },
   "outputs": [],
   "source": [
    "data = json.loads(training_data.as_json()) #data in human readable format"
   ]
  },
  {
   "cell_type": "code",
   "execution_count": null,
   "metadata": {
    "collapsed": true
   },
   "outputs": [],
   "source": [
    "# intet check\n",
    "for item in data['rasa_nlu_data']['common_examples']:\n",
    "    print(interpreter.parse(item['text'])['intent']['name']==item['intent'],item['intent'],\\\n",
    "          interpreter.parse(item['text'])['intent']['name'])"
   ]
  },
  {
   "cell_type": "code",
   "execution_count": 8,
   "metadata": {},
   "outputs": [
    {
     "data": {
      "text/plain": [
       "{'end': 25, 'entity': 'hotel-type', 'start': 19, 'value': 'hostel'}"
      ]
     },
     "execution_count": 8,
     "metadata": {},
     "output_type": "execute_result"
    }
   ],
   "source": [
    "data['rasa_nlu_data']['common_examples'][20]['entities'][0]"
   ]
  },
  {
   "cell_type": "code",
   "execution_count": 33,
   "metadata": {},
   "outputs": [
    {
     "data": {
      "text/plain": [
       "{'end': 35, 'entity': 'specific-location', 'start': 27, 'value': 'tel aviv'}"
      ]
     },
     "execution_count": 33,
     "metadata": {},
     "output_type": "execute_result"
    }
   ],
   "source": [
    "entity"
   ]
  },
  {
   "cell_type": "code",
   "execution_count": 36,
   "metadata": {
    "scrolled": true
   },
   "outputs": [
    {
     "name": "stdout",
     "output_type": "stream",
     "text": [
      "0 0 0\n",
      "0 0 0\n",
      "0 0 0\n",
      "0 0 0\n",
      "0 0 0\n",
      "0 0 0\n",
      "0 0 0\n",
      "0 0 0\n",
      "0 0 0\n",
      "0 0 0\n",
      "0 0 0\n",
      "0 0 0\n",
      "0 0 0\n",
      "0 0 0\n",
      "0 0 0\n",
      "0 0 0\n",
      "0 0 0\n",
      "0 0 0\n",
      "0 0 0\n",
      "2 2 2\n",
      "2 2 2\n",
      "3 3 3\n",
      "2 2 2\n",
      "2 2 2\n",
      "1 1 1\n",
      "1 1 1\n",
      "2 2 2\n",
      "2 2 2\n",
      "1 1 1\n",
      "0 0 0\n",
      "0 0 0\n",
      "0 0 0\n",
      "0 0 0\n",
      "0 0 0\n",
      "0 0 0\n",
      "0 0 0\n",
      "2 2 2\n",
      "3 3 3\n",
      "3 3 3\n",
      "3 3 3\n",
      "3 3 3\n",
      "3 3 3\n",
      "2 2 2\n",
      "2 2 2\n",
      "2 2 2\n",
      "2 2 2\n",
      "2 2 3\n",
      "3 3 3\n",
      "3 3 3\n",
      "4 4 4\n",
      "1 1 1\n",
      "2 2 2\n",
      "2 2 2\n",
      "3 3 3\n",
      "0 0 0\n",
      "2 2 2\n",
      "2 2 2\n",
      "1 1 2\n",
      "1 1 1\n",
      "2 2 2\n",
      "2 2 2\n",
      "2 2 2\n",
      "1 1 1\n",
      "1 1 1\n",
      "2 2 2\n",
      "1 1 1\n",
      "2 2 2\n",
      "2 2 2\n",
      "2 2 2\n",
      "2 2 2\n",
      "2 2 2\n",
      "2 2 2\n",
      "2 2 2\n",
      "0 0 0\n",
      "0 0 0\n",
      "0 0 0\n",
      "0 0 0\n",
      "0 0 0\n",
      "0 0 0\n",
      "0 0 0\n",
      "0 0 0\n",
      "0 0 0\n",
      "2 2 3\n",
      "4 4 4\n",
      "2 2 2\n",
      "2 2 2\n",
      "2 2 2\n",
      "2 2 2\n",
      "2 2 2\n"
     ]
    }
   ],
   "source": [
    "#check entites\n",
    "print('intersect, preds, gts')\n",
    "for item in data['rasa_nlu_data']['common_examples']:\n",
    "    pred=set([ entity['entity'] for entity in interpreter.parse(item['text'])['entities']])\n",
    "    gt=set([entity['entity'] for entity in item['entities']])\n",
    "    print(len(pred.intersection(gt)),len(pred),len(gt))"
   ]
  },
  {
   "cell_type": "code",
   "execution_count": 20,
   "metadata": {},
   "outputs": [
    {
     "data": {
      "text/plain": [
       "{'parking', 'specific-location'}"
      ]
     },
     "execution_count": 20,
     "metadata": {},
     "output_type": "execute_result"
    }
   ],
   "source": [
    "set([entity['entity'] for entity in item['entities']])"
   ]
  },
  {
   "cell_type": "code",
   "execution_count": 12,
   "metadata": {},
   "outputs": [
    {
     "data": {
      "text/plain": [
       "{'entities': [{'end': 23,\n",
       "   'entity': 'parking',\n",
       "   'extractor': 'ner_mitie',\n",
       "   'start': 11,\n",
       "   'value': 'free parking'},\n",
       "  {'end': 35,\n",
       "   'entity': 'specific-location',\n",
       "   'extractor': 'ner_mitie',\n",
       "   'processors': ['ner_synonyms'],\n",
       "   'start': 27,\n",
       "   'value': 'Tel Aviv'}],\n",
       " 'intent': {'confidence': 1.0727559170134773, 'name': 'hotel-search'},\n",
       " 'text': 'hotel with free parking in tel aviv'}"
      ]
     },
     "execution_count": 12,
     "metadata": {},
     "output_type": "execute_result"
    }
   ],
   "source": [
    "metadata = Metadata.load(model_directory)\n",
    "interpreter = Interpreter.load(metadata, config) #loaded model\n"
   ]
  },
  {
   "cell_type": "code",
   "execution_count": 23,
   "metadata": {},
   "outputs": [
    {
     "data": {
      "text/plain": [
       "{'Tel Aviv', 'free parking'}"
      ]
     },
     "execution_count": 23,
     "metadata": {},
     "output_type": "execute_result"
    }
   ],
   "source": [
    "set([ entity['value'] for entity in interpreter.parse(item['text'])['entities']])"
   ]
  },
  {
   "cell_type": "code",
   "execution_count": 25,
   "metadata": {},
   "outputs": [],
   "source": [
    "import numpy as np\n",
    "a=set([1,2,3])\n",
    "b=set([2,3,4])"
   ]
  },
  {
   "cell_type": "code",
   "execution_count": 28,
   "metadata": {},
   "outputs": [
    {
     "data": {
      "text/plain": [
       "{2, 3, 4}"
      ]
     },
     "execution_count": 28,
     "metadata": {},
     "output_type": "execute_result"
    }
   ],
   "source": [
    "b"
   ]
  },
  {
   "cell_type": "code",
   "execution_count": 30,
   "metadata": {},
   "outputs": [
    {
     "data": {
      "text/plain": [
       "{2, 3}"
      ]
     },
     "execution_count": 30,
     "metadata": {},
     "output_type": "execute_result"
    }
   ],
   "source": [
    "a.intersection(b)"
   ]
  },
  {
   "cell_type": "code",
   "execution_count": null,
   "metadata": {
    "collapsed": true
   },
   "outputs": [],
   "source": []
  }
 ],
 "metadata": {
  "kernelspec": {
   "display_name": "Python 3",
   "language": "python",
   "name": "python3"
  },
  "language_info": {
   "codemirror_mode": {
    "name": "ipython",
    "version": 3
   },
   "file_extension": ".py",
   "mimetype": "text/x-python",
   "name": "python",
   "nbconvert_exporter": "python",
   "pygments_lexer": "ipython3",
   "version": "3.6.2"
  }
 },
 "nbformat": 4,
 "nbformat_minor": 2
}
