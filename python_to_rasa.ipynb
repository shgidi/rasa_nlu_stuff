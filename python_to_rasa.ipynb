{
 "cells": [
  {
   "cell_type": "markdown",
   "metadata": {},
   "source": [
    "## import stuff"
   ]
  },
  {
   "cell_type": "code",
   "execution_count": 1,
   "metadata": {
    "collapsed": true
   },
   "outputs": [],
   "source": [
    "from rasa_nlu.model import Metadata, Interpreter\n",
    "from rasa_nlu.converters import load_data\n",
    "from rasa_nlu.config import RasaNLUConfig\n",
    "from rasa_nlu.model import Trainer\n",
    "import json\n",
    "#s plit train test\n",
    "from sklearn.model_selection import train_test_split\n",
    "\n"
   ]
  },
  {
   "cell_type": "code",
   "execution_count": null,
   "metadata": {
    "collapsed": true
   },
   "outputs": [],
   "source": [
    "#configs: language, data, model"
   ]
  },
  {
   "cell_type": "code",
   "execution_count": 117,
   "metadata": {
    "collapsed": true
   },
   "outputs": [],
   "source": [
    "dir='/mnt/intrctbt/tourism-il-ms/nlp/'\n",
    "model_directory = dir+'models/model_20170913-193954' #english hotel model\n",
    "hotel_data_file=dir+'hotel_data.json'\n",
    "mitie_config=dir+\"mitie_config.json\"\n",
    "hotel_train_data_file=dir+'hotel_data_train.json'"
   ]
  },
  {
   "cell_type": "markdown",
   "metadata": {},
   "source": [
    "## train bot model"
   ]
  },
  {
   "cell_type": "code",
   "execution_count": 5,
   "metadata": {
    "collapsed": true
   },
   "outputs": [
    {
     "name": "stdout",
     "output_type": "stream",
     "text": [
      "initializing nlp_mitie\n",
      "initializing tokenizer_mitie\n",
      "initializing ner_mitie\n",
      "initializing ner_synonyms\n",
      "initializing intent_entity_featurizer_regex\n",
      "initializing intent_classifier_mitie\n"
     ]
    }
   ],
   "source": [
    "training_data = load_data(hotel_data_file)\n",
    "trainer = Trainer(RasaNLUConfig(mitie_config))"
   ]
  },
  {
   "cell_type": "code",
   "execution_count": 72,
   "metadata": {},
   "outputs": [],
   "source": [
    "data = json.loads(training_data.as_json()) #data in human readable format"
   ]
  },
  {
   "cell_type": "code",
   "execution_count": 42,
   "metadata": {
    "collapsed": true
   },
   "outputs": [],
   "source": [
    "config = RasaNLUConfig(mitie_config) "
   ]
  },
  {
   "cell_type": "code",
   "execution_count": 116,
   "metadata": {},
   "outputs": [
    {
     "data": {
      "text/plain": [
       "(66, 23)"
      ]
     },
     "execution_count": 116,
     "metadata": {},
     "output_type": "execute_result"
    }
   ],
   "source": [
    "train,test=train_test_split(data['rasa_nlu_data']['common_examples'],random_state=42)\n",
    "len(train),len(test)"
   ]
  },
  {
   "cell_type": "code",
   "execution_count": 94,
   "metadata": {},
   "outputs": [],
   "source": [
    "train_data_to_save={'rasa_nlu_data': {'common_examples':train}}"
   ]
  },
  {
   "cell_type": "code",
   "execution_count": 95,
   "metadata": {
    "collapsed": true
   },
   "outputs": [],
   "source": [
    "#save train set to disk\n",
    "with open(hotel_train_data_file, 'w') as outfile:\n",
    "    json.dump(train_data_to_save, outfile)"
   ]
  },
  {
   "cell_type": "code",
   "execution_count": 97,
   "metadata": {
    "collapsed": true
   },
   "outputs": [
    {
     "name": "stderr",
     "output_type": "stream",
     "text": [
      "/home/ubuntu/anaconda3/lib/python3.6/site-packages/rasa_nlu/training_data.py:157: UserWarning: Intent 'hotel-other' has only 1 training examples! minimum is 2, training may fail.\n",
      "  warnings.warn(template.format(intent, size, self.MIN_EXAMPLES_PER_INTENT))\n",
      "/home/ubuntu/anaconda3/lib/python3.6/site-packages/rasa_nlu/training_data.py:165: UserWarning: Entity 'pool' has only 1 training examples! minimum is 2, training may fail.\n",
      "  warnings.warn(template.format(entity, size, self.MIN_EXAMPLES_PER_ENTITY))\n"
     ]
    }
   ],
   "source": [
    "training_data = load_data(hotel_train_data_file)"
   ]
  },
  {
   "cell_type": "code",
   "execution_count": 100,
   "metadata": {},
   "outputs": [
    {
     "name": "stdout",
     "output_type": "stream",
     "text": [
      "initializing nlp_mitie\n",
      "initializing tokenizer_mitie\n",
      "initializing ner_mitie\n",
      "initializing ner_synonyms\n",
      "initializing intent_entity_featurizer_regex\n",
      "initializing intent_classifier_mitie\n",
      "starting to train nlp_mitie\n",
      "starting to train tokenizer_mitie\n",
      "starting to train ner_mitie\n"
     ]
    },
    {
     "name": "stderr",
     "output_type": "stream",
     "text": [
      "Exception ignored in: <bound method total_word_feature_extractor.__del__ of <mitie.mitie.total_word_feature_extractor object at 0x7f923239a390>>\n",
      "Traceback (most recent call last):\n",
      "  File \"/home/ubuntu/anaconda3/lib/python3.6/site-packages/mitie/mitie.py\", line 833, in __del__\n",
      "    self.__mitie_free(self.__obj)\n",
      "AttributeError: 'total_word_feature_extractor' object has no attribute '_total_word_feature_extractor__obj'\n"
     ]
    },
    {
     "name": "stdout",
     "output_type": "stream",
     "text": [
      "starting to train ner_synonyms\n",
      "starting to train intent_entity_featurizer_regex\n",
      "starting to train intent_classifier_mitie\n"
     ]
    }
   ],
   "source": [
    "trainer = Trainer(RasaNLUConfig(mitie_config))\n",
    "interpreter=trainer.train(training_data)"
   ]
  },
  {
   "cell_type": "markdown",
   "metadata": {},
   "source": [
    "## check results"
   ]
  },
  {
   "cell_type": "code",
   "execution_count": 45,
   "metadata": {},
   "outputs": [],
   "source": [
    "metadata = Metadata.load(model_directory)\n",
    "interpreter = Interpreter.load(metadata, config) #loaded model"
   ]
  },
  {
   "cell_type": "code",
   "execution_count": 113,
   "metadata": {},
   "outputs": [
    {
     "data": {
      "text/plain": [
       "23"
      ]
     },
     "execution_count": 113,
     "metadata": {},
     "output_type": "execute_result"
    }
   ],
   "source": [
    "len(test)"
   ]
  },
  {
   "cell_type": "code",
   "execution_count": 110,
   "metadata": {
    "collapsed": true
   },
   "outputs": [
    {
     "name": "stdout",
     "output_type": "stream",
     "text": [
      "(True, 'hotel-search', 'hotel-search')\n",
      "(True, 'hotel-search', 'hotel-search')\n",
      "(True, 'live-agent', 'live-agent')\n",
      "(False, 'affirm', 'hotel-search')\n",
      "(True, 'hotel-search', 'hotel-search')\n",
      "(True, 'greet', 'greet')\n",
      "(True, 'hotel-search', 'hotel-search')\n",
      "(True, 'affirm', 'affirm')\n",
      "(True, 'affirm', 'affirm')\n",
      "(True, 'hotel-search', 'hotel-search')\n",
      "(True, 'greet', 'greet')\n",
      "(True, 'live-agent', 'live-agent')\n",
      "(True, 'hotel-search', 'hotel-search')\n",
      "(False, 'goodbye', 'hotel-search')\n",
      "(False, 'goodbye', 'hotel-search')\n",
      "(True, 'hotel-search', 'hotel-search')\n",
      "(False, 'goodbye', 'hotel-search')\n",
      "(True, 'hotel-search', 'hotel-search')\n",
      "(True, 'hotel-search', 'hotel-search')\n",
      "(False, 'live-agent', 'goodbye')\n",
      "(True, 'hotel-search', 'hotel-search')\n",
      "(True, 'hotel-search', 'hotel-search')\n",
      "(False, 'live-agent', 'hotel-other')\n"
     ]
    }
   ],
   "source": [
    "# intet check\n",
    "sum=0\n",
    "for item in test:\n",
    "    hit=interpreter.parse(item['text'])['intent']['name']==item['intent'],item['intent'],\\\n",
    "          interpreter.parse(item['text'])['intent']['name']\n",
    "    print(hit)\n",
    "    sum+=hit[0]"
   ]
  },
  {
   "cell_type": "code",
   "execution_count": 111,
   "metadata": {
    "scrolled": true
   },
   "outputs": [
    {
     "data": {
      "text/plain": [
       "17"
      ]
     },
     "execution_count": 111,
     "metadata": {},
     "output_type": "execute_result"
    }
   ],
   "source": [
    "sum"
   ]
  },
  {
   "cell_type": "code",
   "execution_count": 114,
   "metadata": {},
   "outputs": [
    {
     "data": {
      "text/plain": [
       "0.7391304347826086"
      ]
     },
     "execution_count": 114,
     "metadata": {},
     "output_type": "execute_result"
    }
   ],
   "source": [
    "17/23"
   ]
  },
  {
   "cell_type": "code",
   "execution_count": 104,
   "metadata": {
    "collapsed": true
   },
   "outputs": [
    {
     "name": "stdout",
     "output_type": "stream",
     "text": [
      "intersect, preds, gts\n",
      "1 3 2\n",
      "2 3 3\n",
      "0 1 0\n",
      "0 1 0\n",
      "3 3 4\n",
      "0 0 0\n",
      "1 2 2\n",
      "0 1 0\n",
      "0 0 0\n",
      "2 2 2\n",
      "0 1 0\n",
      "0 1 0\n",
      "2 2 2\n",
      "0 1 0\n",
      "0 0 0\n",
      "2 3 3\n",
      "0 0 0\n",
      "1 2 2\n",
      "2 2 2\n",
      "0 0 0\n",
      "1 2 2\n",
      "2 3 3\n",
      "0 1 0\n"
     ]
    }
   ],
   "source": [
    "# entity check accuracy\n",
    "print('intersect, preds, gts')\n",
    "num=0\n",
    "denom=0\n",
    "for item in test:\n",
    "    pred=set([ entity['entity'] for entity in interpreter.parse(item['text'])['entities']])\n",
    "    gt=set([entity['entity'] for entity in item['entities']])\n",
    "    num+=len(pred.intersection(gt))\n",
    "    denom+=len(gt)\n",
    "    print(len(pred.intersection(gt)),len(pred),len(gt))"
   ]
  },
  {
   "cell_type": "code",
   "execution_count": 115,
   "metadata": {},
   "outputs": [
    {
     "data": {
      "text/plain": [
       "0.7037037037037037"
      ]
     },
     "execution_count": 115,
     "metadata": {},
     "output_type": "execute_result"
    }
   ],
   "source": [
    "# intent accuracy\n",
    "num/denom"
   ]
  }
 ],
 "metadata": {
  "kernelspec": {
   "display_name": "Python 3",
   "language": "python",
   "name": "python3"
  },
  "language_info": {
   "codemirror_mode": {
    "name": "ipython",
    "version": 3
   },
   "file_extension": ".py",
   "mimetype": "text/x-python",
   "name": "python",
   "nbconvert_exporter": "python",
   "pygments_lexer": "ipython3",
   "version": "3.6.2"
  }
 },
 "nbformat": 4,
 "nbformat_minor": 2
}
